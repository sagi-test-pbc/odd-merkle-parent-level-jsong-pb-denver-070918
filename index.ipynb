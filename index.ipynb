{
 "cells": [
  {
   "cell_type": "markdown",
   "metadata": {},
   "source": [
    "# Odd Merkle Parent Level"
   ]
  },
  {
   "cell_type": "code",
   "execution_count": null,
   "metadata": {},
   "outputs": [],
   "source": [
    "# Odd Merkle Parent Level Example\n",
    "\n",
    "from helper import double_sha256, merkle_parent\n",
    "hex_hashes = [\n",
    "    'c117ea8ec828342f4dfb0ad6bd140e03a50720ece40169ee38bdc15d9eb64cf5',\n",
    "    'c131474164b412e3406696da1ee20ab0fc9bf41c8f05fa8ceea7a08d672d7cc5',\n",
    "    'f391da6ecfeed1814efae39e7fcb3838ae0b02c02ae7d0a5848a66947c0727b0',\n",
    "    '3d238a92a94532b946c90e19c49351c763696cff3db400485b813aecb8a13181',\n",
    "    '10092f2633be5f3ce349bf9ddbde36caa3dd10dfa0ec8106bce23acbff637dae',\n",
    "]\n",
    "hashes = [bytes.fromhex(x) for x in hex_hashes]\n",
    "if len(hashes) % 2 == 1:\n",
    "    hashes.append(hashes[-1])\n",
    "parent_level = []\n",
    "for i in range(0, len(hex_hashes), 2):\n",
    "    parent = merkle_parent(hashes[i], hashes[i+1])\n",
    "    print(parent.hex())\n",
    "    parent_level.append(parent)"
   ]
  },
  {
   "cell_type": "markdown",
   "metadata": {},
   "source": [
    "### Try it\n",
    "\n",
    "#### Calculate the next Merkle Parent Level given these hashes\n",
    "```\n",
    "8b30c5ba100f6f2e5ad1e2a742e5020491240f8eb514fe97c713c31718ad7ecd\n",
    "7f4e6f9e224e20fda0ae4c44114237f97cd35aca38d83081c9bfd41feb907800\n",
    "ade48f2bbb57318cc79f3a8678febaa827599c509dce5940602e54c7733332e7\n",
    "68b3e2ab8182dfd646f13fdf01c335cf32476482d963f5cd94e934e6b3401069\n",
    "43e7274e77fbe8e5a42a8fb58f7decdb04d521f319f332d88e6b06f8e6c09e27\n",
    "```"
   ]
  },
  {
   "cell_type": "code",
   "execution_count": null,
   "metadata": {},
   "outputs": [],
   "source": [
    "from helper import merkle_parent\n",
    "\n",
    "hex_hashes = [\n",
    "    '8b30c5ba100f6f2e5ad1e2a742e5020491240f8eb514fe97c713c31718ad7ecd',\n",
    "    '7f4e6f9e224e20fda0ae4c44114237f97cd35aca38d83081c9bfd41feb907800',\n",
    "    'ade48f2bbb57318cc79f3a8678febaa827599c509dce5940602e54c7733332e7',\n",
    "    '68b3e2ab8182dfd646f13fdf01c335cf32476482d963f5cd94e934e6b3401069',\n",
    "    '43e7274e77fbe8e5a42a8fb58f7decdb04d521f319f332d88e6b06f8e6c09e27',\n",
    "]\n",
    "\n",
    "# bytes.fromhex to get all the hashes in binary\n",
    "# if the number of hashes is odd, duplicate the last one\n",
    "# initialize parent level\n",
    "# skip by two: use range(0, len(hashes), 2)\n",
    "    # calculate merkle_parent of i and i+1 hashes\n",
    "    # print the hash's hex\n",
    "    # add parent to parent level"
   ]
  },
  {
   "cell_type": "markdown",
   "metadata": {},
   "source": [
    "### Test Driven Example\n",
    "\n",
    "Add the odd number of element case to the `merkle_parent_level` methods."
   ]
  },
  {
   "cell_type": "code",
   "execution_count": null,
   "metadata": {},
   "outputs": [],
   "source": [
    "def merkle_parent_level(hashes):\n",
    "    '''Takes a list of binary hashes and returns a list that's half\n",
    "    the length'''\n",
    "    if len(hashes) == 1:\n",
    "        raise RuntimeError('Cannot take a parent level with only 1 item')\n",
    "    # FOR ODD CASE: if the list has an odd number of elements, duplicate the last one\n",
    "    #               and put it at the end so it has an even number of elements\n",
    "    parent_level = []\n",
    "    for i in range(0, len(hashes), 2):\n",
    "        parent = merkle_parent(hashes[i], hashes[i+1])\n",
    "        parent_level.append(parent)\n",
    "    return parent_level"
   ]
  }
 ],
 "metadata": {
  "kernelspec": {
   "display_name": "Python 3",
   "language": "python",
   "name": "python3"
  },
  "language_info": {
   "codemirror_mode": {
    "name": "ipython",
    "version": 3
   },
   "file_extension": ".py",
   "mimetype": "text/x-python",
   "name": "python",
   "nbconvert_exporter": "python",
   "pygments_lexer": "ipython3",
   "version": "3.6.4"
  }
 },
 "nbformat": 4,
 "nbformat_minor": 2
}
